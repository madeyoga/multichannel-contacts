{
 "cells": [
  {
   "cell_type": "code",
   "execution_count": 1,
   "metadata": {},
   "outputs": [],
   "source": [
    "import numpy as np\n",
    "import pandas as pd\n",
    "from tqdm import tqdm"
   ]
  },
  {
   "cell_type": "code",
   "execution_count": 2,
   "metadata": {},
   "outputs": [
    {
     "data": {
      "text/html": [
       "<div>\n",
       "<style scoped>\n",
       "    .dataframe tbody tr th:only-of-type {\n",
       "        vertical-align: middle;\n",
       "    }\n",
       "\n",
       "    .dataframe tbody tr th {\n",
       "        vertical-align: top;\n",
       "    }\n",
       "\n",
       "    .dataframe thead th {\n",
       "        text-align: right;\n",
       "    }\n",
       "</style>\n",
       "<table border=\"1\" class=\"dataframe\">\n",
       "  <thead>\n",
       "    <tr style=\"text-align: right;\">\n",
       "      <th></th>\n",
       "      <th>Id</th>\n",
       "      <th>Email</th>\n",
       "      <th>Phone</th>\n",
       "      <th>Contacts</th>\n",
       "      <th>OrderId</th>\n",
       "    </tr>\n",
       "  </thead>\n",
       "  <tbody>\n",
       "    <tr>\n",
       "      <th>0</th>\n",
       "      <td>0</td>\n",
       "      <td>gkzAbIy@qq.com</td>\n",
       "      <td></td>\n",
       "      <td>1</td>\n",
       "      <td></td>\n",
       "    </tr>\n",
       "    <tr>\n",
       "      <th>1</th>\n",
       "      <td>1</td>\n",
       "      <td></td>\n",
       "      <td>329442681752</td>\n",
       "      <td>4</td>\n",
       "      <td>vDDJJcxfLtSfkooPhbYnJdxov</td>\n",
       "    </tr>\n",
       "    <tr>\n",
       "      <th>2</th>\n",
       "      <td>2</td>\n",
       "      <td></td>\n",
       "      <td>9125983679</td>\n",
       "      <td>0</td>\n",
       "      <td></td>\n",
       "    </tr>\n",
       "    <tr>\n",
       "      <th>3</th>\n",
       "      <td>3</td>\n",
       "      <td>mdllpYmE@gmail.com</td>\n",
       "      <td></td>\n",
       "      <td>0</td>\n",
       "      <td>bHquEnCbbsGLqllwryxPsNOxa</td>\n",
       "    </tr>\n",
       "    <tr>\n",
       "      <th>4</th>\n",
       "      <td>4</td>\n",
       "      <td></td>\n",
       "      <td>300364407</td>\n",
       "      <td>2</td>\n",
       "      <td></td>\n",
       "    </tr>\n",
       "  </tbody>\n",
       "</table>\n",
       "</div>"
      ],
      "text/plain": [
       "   Id               Email         Phone  Contacts                    OrderId\n",
       "0   0      gkzAbIy@qq.com                       1                           \n",
       "1   1                      329442681752         4  vDDJJcxfLtSfkooPhbYnJdxov\n",
       "2   2                        9125983679         0                           \n",
       "3   3  mdllpYmE@gmail.com                       0  bHquEnCbbsGLqllwryxPsNOxa\n",
       "4   4                         300364407         2                           "
      ]
     },
     "execution_count": 2,
     "metadata": {},
     "output_type": "execute_result"
    }
   ],
   "source": [
    "df = pd.read_json('contacts.json')\n",
    "npdata = df.values\n",
    "df.head()"
   ]
  },
  {
   "cell_type": "markdown",
   "metadata": {},
   "source": [
    "### Assume data from column \"Email\" != data from any other columns"
   ]
  },
  {
   "cell_type": "code",
   "execution_count": 3,
   "metadata": {},
   "outputs": [],
   "source": [
    "memory = {}\n",
    "clusters = {}"
   ]
  },
  {
   "cell_type": "code",
   "execution_count": 4,
   "metadata": {},
   "outputs": [],
   "source": [
    "def add_to_memory(user_id, value):\n",
    "    if value != \"\":\n",
    "        if value in memory:\n",
    "            memory[value].add(user_id)\n",
    "            return\n",
    "        memory[value] = {user_id}"
   ]
  },
  {
   "cell_type": "code",
   "execution_count": 5,
   "metadata": {},
   "outputs": [
    {
     "name": "stderr",
     "output_type": "stream",
     "text": [
      "100%|███████████████████████████████████████████| 500000/500000 [00:01<00:00, 436115.57it/s]\n"
     ]
    }
   ],
   "source": [
    "for row in tqdm(npdata):\n",
    "    user_id = row[0]\n",
    "    add_to_memory(user_id, row[4])\n",
    "    add_to_memory(user_id, row[1])\n",
    "    add_to_memory(user_id, row[2])"
   ]
  },
  {
   "cell_type": "markdown",
   "metadata": {},
   "source": [
    "### Trace only first"
   ]
  },
  {
   "cell_type": "code",
   "execution_count": 6,
   "metadata": {},
   "outputs": [
    {
     "name": "stderr",
     "output_type": "stream",
     "text": [
      "100%|███████████████████████████████████████████| 629135/629135 [00:01<00:00, 527409.55it/s]\n"
     ]
    }
   ],
   "source": [
    "for _, ids in tqdm(memory.items(), total=len(memory.items())):\n",
    "    temp_cluster = set(ids)\n",
    "    \n",
    "    # Check if any of these ids have cluster.\n",
    "    for uid in ids:\n",
    "        if uid in clusters:\n",
    "            temp_cluster.update(clusters[uid])\n",
    "    \n",
    "    for uid in temp_cluster:\n",
    "        clusters[uid] = temp_cluster"
   ]
  },
  {
   "cell_type": "markdown",
   "metadata": {},
   "source": [
    "### Then Sum contacts & Build output format"
   ]
  },
  {
   "cell_type": "code",
   "execution_count": 7,
   "metadata": {},
   "outputs": [
    {
     "name": "stderr",
     "output_type": "stream",
     "text": [
      "100%|███████████████████████████████████████████| 500000/500000 [00:04<00:00, 113139.25it/s]\n"
     ]
    }
   ],
   "source": [
    "output = []\n",
    "for user_id, trace in tqdm(sorted(clusters.items()), total=len(clusters.items())):\n",
    "    contacts = np.sum(npdata[list(trace), 3])\n",
    "    trace = \"-\".join([str(trace) for trace in sorted(trace)])\n",
    "    answer = \"{},{}\".format(trace, contacts)\n",
    "    output.append({\"ticket_id\": user_id,  \"ticket_trace/contact\": answer})"
   ]
  },
  {
   "cell_type": "markdown",
   "metadata": {},
   "source": [
    "### Trace & Sum"
   ]
  },
  {
   "cell_type": "code",
   "execution_count": 8,
   "metadata": {},
   "outputs": [],
   "source": [
    "# for _, ids in tqdm(memory.items(), total=len(memory.items())):\n",
    "#     temp_cluster = set(ids)\n",
    "    \n",
    "#     # Check if any of these ids have cluster.\n",
    "#     for uid in ids:\n",
    "#         if uid in clusters:\n",
    "#             temp_cluster.update(clusters[uid][\"trace\"])\n",
    "    \n",
    "#     contacts = np.sum(npdata[list(temp_cluster), 3])\n",
    "    \n",
    "#     for uid in temp_cluster:\n",
    "#         clusters[uid] = {\"trace\": temp_cluster, \"contacts\": contacts}"
   ]
  },
  {
   "cell_type": "markdown",
   "metadata": {},
   "source": [
    "### Build output"
   ]
  },
  {
   "cell_type": "code",
   "execution_count": 9,
   "metadata": {},
   "outputs": [],
   "source": [
    "# output = []\n",
    "# for user_id, value in tqdm(sorted(clusters.items()), total=len(clusters.items())):\n",
    "#     trace = value.get(\"trace\")\n",
    "#     trace = \"-\".join([str(trace) for trace in sorted(trace)])\n",
    "#     answer = \"{},{}\".format(trace, value.get(\"contacts\"))\n",
    "#     output.append({\"ticket_id\": user_id,  \"ticket_trace/contact\": answer})"
   ]
  },
  {
   "cell_type": "code",
   "execution_count": null,
   "metadata": {},
   "outputs": [],
   "source": [
    "output"
   ]
  },
  {
   "cell_type": "code",
   "execution_count": 11,
   "metadata": {},
   "outputs": [
    {
     "data": {
      "text/html": [
       "<div>\n",
       "<style scoped>\n",
       "    .dataframe tbody tr th:only-of-type {\n",
       "        vertical-align: middle;\n",
       "    }\n",
       "\n",
       "    .dataframe tbody tr th {\n",
       "        vertical-align: top;\n",
       "    }\n",
       "\n",
       "    .dataframe thead th {\n",
       "        text-align: right;\n",
       "    }\n",
       "</style>\n",
       "<table border=\"1\" class=\"dataframe\">\n",
       "  <thead>\n",
       "    <tr style=\"text-align: right;\">\n",
       "      <th></th>\n",
       "      <th>ticket_id</th>\n",
       "      <th>ticket_trace/contact</th>\n",
       "    </tr>\n",
       "  </thead>\n",
       "  <tbody>\n",
       "    <tr>\n",
       "      <th>0</th>\n",
       "      <td>0</td>\n",
       "      <td>0,1</td>\n",
       "    </tr>\n",
       "    <tr>\n",
       "      <th>1</th>\n",
       "      <td>1</td>\n",
       "      <td>1-2458-98519-115061-140081-165605-476346,12</td>\n",
       "    </tr>\n",
       "    <tr>\n",
       "      <th>2</th>\n",
       "      <td>2</td>\n",
       "      <td>2-159312-322639-348955,4</td>\n",
       "    </tr>\n",
       "    <tr>\n",
       "      <th>3</th>\n",
       "      <td>3</td>\n",
       "      <td>3,0</td>\n",
       "    </tr>\n",
       "    <tr>\n",
       "      <th>4</th>\n",
       "      <td>4</td>\n",
       "      <td>4,2</td>\n",
       "    </tr>\n",
       "    <tr>\n",
       "      <th>5</th>\n",
       "      <td>5</td>\n",
       "      <td>5-50-212533-215197-226720-383605-404324-458692...</td>\n",
       "    </tr>\n",
       "    <tr>\n",
       "      <th>6</th>\n",
       "      <td>6</td>\n",
       "      <td>6-38-32871-142067-236367,13</td>\n",
       "    </tr>\n",
       "    <tr>\n",
       "      <th>7</th>\n",
       "      <td>7</td>\n",
       "      <td>7,1</td>\n",
       "    </tr>\n",
       "    <tr>\n",
       "      <th>8</th>\n",
       "      <td>8</td>\n",
       "      <td>8-183160-406623,5</td>\n",
       "    </tr>\n",
       "    <tr>\n",
       "      <th>9</th>\n",
       "      <td>9</td>\n",
       "      <td>9-13-16708-33415-343161-417916-468927-484896,8</td>\n",
       "    </tr>\n",
       "    <tr>\n",
       "      <th>10</th>\n",
       "      <td>10</td>\n",
       "      <td>10-93270,7</td>\n",
       "    </tr>\n",
       "    <tr>\n",
       "      <th>11</th>\n",
       "      <td>11</td>\n",
       "      <td>11-244207,3</td>\n",
       "    </tr>\n",
       "    <tr>\n",
       "      <th>12</th>\n",
       "      <td>12</td>\n",
       "      <td>12-160893-480595,7</td>\n",
       "    </tr>\n",
       "    <tr>\n",
       "      <th>13</th>\n",
       "      <td>13</td>\n",
       "      <td>9-13-16708-33415-343161-417916-468927-484896,8</td>\n",
       "    </tr>\n",
       "    <tr>\n",
       "      <th>14</th>\n",
       "      <td>14</td>\n",
       "      <td>14-65749-83313-267520-323910-359095,10</td>\n",
       "    </tr>\n",
       "    <tr>\n",
       "      <th>15</th>\n",
       "      <td>15</td>\n",
       "      <td>15-17-21197-486106,14</td>\n",
       "    </tr>\n",
       "    <tr>\n",
       "      <th>16</th>\n",
       "      <td>16</td>\n",
       "      <td>16,0</td>\n",
       "    </tr>\n",
       "    <tr>\n",
       "      <th>17</th>\n",
       "      <td>17</td>\n",
       "      <td>15-17-21197-486106,14</td>\n",
       "    </tr>\n",
       "    <tr>\n",
       "      <th>18</th>\n",
       "      <td>18</td>\n",
       "      <td>18-10380-26580-70474-70621-79466-121268-159329...</td>\n",
       "    </tr>\n",
       "    <tr>\n",
       "      <th>19</th>\n",
       "      <td>19</td>\n",
       "      <td>19-406780,1</td>\n",
       "    </tr>\n",
       "  </tbody>\n",
       "</table>\n",
       "</div>"
      ],
      "text/plain": [
       "    ticket_id                               ticket_trace/contact\n",
       "0           0                                                0,1\n",
       "1           1        1-2458-98519-115061-140081-165605-476346,12\n",
       "2           2                           2-159312-322639-348955,4\n",
       "3           3                                                3,0\n",
       "4           4                                                4,2\n",
       "5           5  5-50-212533-215197-226720-383605-404324-458692...\n",
       "6           6                        6-38-32871-142067-236367,13\n",
       "7           7                                                7,1\n",
       "8           8                                  8-183160-406623,5\n",
       "9           9     9-13-16708-33415-343161-417916-468927-484896,8\n",
       "10         10                                         10-93270,7\n",
       "11         11                                        11-244207,3\n",
       "12         12                                 12-160893-480595,7\n",
       "13         13     9-13-16708-33415-343161-417916-468927-484896,8\n",
       "14         14             14-65749-83313-267520-323910-359095,10\n",
       "15         15                              15-17-21197-486106,14\n",
       "16         16                                               16,0\n",
       "17         17                              15-17-21197-486106,14\n",
       "18         18  18-10380-26580-70474-70621-79466-121268-159329...\n",
       "19         19                                        19-406780,1"
      ]
     },
     "execution_count": 11,
     "metadata": {},
     "output_type": "execute_result"
    }
   ],
   "source": [
    "output_df = pd.DataFrame(output)\n",
    "output_df.head(20)"
   ]
  },
  {
   "cell_type": "code",
   "execution_count": null,
   "metadata": {},
   "outputs": [],
   "source": [
    "filename = input(\"Input filename: \")\n",
    "output_df.to_csv(filename, index=False)"
   ]
  },
  {
   "cell_type": "code",
   "execution_count": null,
   "metadata": {},
   "outputs": [],
   "source": []
  }
 ],
 "metadata": {
  "kernelspec": {
   "display_name": "Python 3",
   "language": "python",
   "name": "python3"
  },
  "language_info": {
   "codemirror_mode": {
    "name": "ipython",
    "version": 3
   },
   "file_extension": ".py",
   "mimetype": "text/x-python",
   "name": "python",
   "nbconvert_exporter": "python",
   "pygments_lexer": "ipython3",
   "version": "3.8.5"
  }
 },
 "nbformat": 4,
 "nbformat_minor": 4
}
