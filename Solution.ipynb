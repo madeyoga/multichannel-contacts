{
 "cells": [
  {
   "cell_type": "code",
   "execution_count": 1,
   "metadata": {},
   "outputs": [],
   "source": [
    "import numpy as np\n",
    "import pandas as pd\n",
    "from tqdm import tqdm"
   ]
  },
  {
   "cell_type": "code",
   "execution_count": 2,
   "metadata": {},
   "outputs": [
    {
     "data": {
      "text/html": [
       "<div>\n",
       "<style scoped>\n",
       "    .dataframe tbody tr th:only-of-type {\n",
       "        vertical-align: middle;\n",
       "    }\n",
       "\n",
       "    .dataframe tbody tr th {\n",
       "        vertical-align: top;\n",
       "    }\n",
       "\n",
       "    .dataframe thead th {\n",
       "        text-align: right;\n",
       "    }\n",
       "</style>\n",
       "<table border=\"1\" class=\"dataframe\">\n",
       "  <thead>\n",
       "    <tr style=\"text-align: right;\">\n",
       "      <th></th>\n",
       "      <th>Id</th>\n",
       "      <th>Email</th>\n",
       "      <th>Phone</th>\n",
       "      <th>Contacts</th>\n",
       "      <th>OrderId</th>\n",
       "    </tr>\n",
       "  </thead>\n",
       "  <tbody>\n",
       "    <tr>\n",
       "      <th>0</th>\n",
       "      <td>0</td>\n",
       "      <td>gkzAbIy@qq.com</td>\n",
       "      <td></td>\n",
       "      <td>1</td>\n",
       "      <td></td>\n",
       "    </tr>\n",
       "    <tr>\n",
       "      <th>1</th>\n",
       "      <td>1</td>\n",
       "      <td></td>\n",
       "      <td>329442681752</td>\n",
       "      <td>4</td>\n",
       "      <td>vDDJJcxfLtSfkooPhbYnJdxov</td>\n",
       "    </tr>\n",
       "    <tr>\n",
       "      <th>2</th>\n",
       "      <td>2</td>\n",
       "      <td></td>\n",
       "      <td>9125983679</td>\n",
       "      <td>0</td>\n",
       "      <td></td>\n",
       "    </tr>\n",
       "    <tr>\n",
       "      <th>3</th>\n",
       "      <td>3</td>\n",
       "      <td>mdllpYmE@gmail.com</td>\n",
       "      <td></td>\n",
       "      <td>0</td>\n",
       "      <td>bHquEnCbbsGLqllwryxPsNOxa</td>\n",
       "    </tr>\n",
       "    <tr>\n",
       "      <th>4</th>\n",
       "      <td>4</td>\n",
       "      <td></td>\n",
       "      <td>300364407</td>\n",
       "      <td>2</td>\n",
       "      <td></td>\n",
       "    </tr>\n",
       "  </tbody>\n",
       "</table>\n",
       "</div>"
      ],
      "text/plain": [
       "   Id               Email         Phone  Contacts                    OrderId\n",
       "0   0      gkzAbIy@qq.com                       1                           \n",
       "1   1                      329442681752         4  vDDJJcxfLtSfkooPhbYnJdxov\n",
       "2   2                        9125983679         0                           \n",
       "3   3  mdllpYmE@gmail.com                       0  bHquEnCbbsGLqllwryxPsNOxa\n",
       "4   4                         300364407         2                           "
      ]
     },
     "execution_count": 2,
     "metadata": {},
     "output_type": "execute_result"
    }
   ],
   "source": [
    "df = pd.read_json(\"contacts.json\")\n",
    "df.head()"
   ]
  },
  {
   "cell_type": "code",
   "execution_count": 3,
   "metadata": {},
   "outputs": [
    {
     "data": {
      "text/plain": [
       "500000"
      ]
     },
     "execution_count": 3,
     "metadata": {},
     "output_type": "execute_result"
    }
   ],
   "source": [
    "ids = df[\"Id\"].values.tolist()\n",
    "len(ids)"
   ]
  },
  {
   "cell_type": "code",
   "execution_count": 112,
   "metadata": {},
   "outputs": [
    {
     "data": {
      "text/plain": [
       "Id                                 18\n",
       "Email         qOkuzhOuPsbltatw@qq.com\n",
       "Phone                                \n",
       "Contacts                            4\n",
       "OrderId     zSekjOkRLyiGjvOPikTKwksFK\n",
       "Name: 18, dtype: object"
      ]
     },
     "execution_count": 112,
     "metadata": {},
     "output_type": "execute_result"
    }
   ],
   "source": [
    "df.loc[18]"
   ]
  },
  {
   "cell_type": "code",
   "execution_count": 113,
   "metadata": {},
   "outputs": [
    {
     "data": {
      "text/html": [
       "<div>\n",
       "<style scoped>\n",
       "    .dataframe tbody tr th:only-of-type {\n",
       "        vertical-align: middle;\n",
       "    }\n",
       "\n",
       "    .dataframe tbody tr th {\n",
       "        vertical-align: top;\n",
       "    }\n",
       "\n",
       "    .dataframe thead th {\n",
       "        text-align: right;\n",
       "    }\n",
       "</style>\n",
       "<table border=\"1\" class=\"dataframe\">\n",
       "  <thead>\n",
       "    <tr style=\"text-align: right;\">\n",
       "      <th></th>\n",
       "      <th>Id</th>\n",
       "      <th>Email</th>\n",
       "      <th>Phone</th>\n",
       "      <th>Contacts</th>\n",
       "      <th>OrderId</th>\n",
       "    </tr>\n",
       "  </thead>\n",
       "  <tbody>\n",
       "    <tr>\n",
       "      <th>18</th>\n",
       "      <td>18</td>\n",
       "      <td>qOkuzhOuPsbltatw@qq.com</td>\n",
       "      <td></td>\n",
       "      <td>4</td>\n",
       "      <td>zSekjOkRLyiGjvOPikTKwksFK</td>\n",
       "    </tr>\n",
       "    <tr>\n",
       "      <th>274269</th>\n",
       "      <td>274269</td>\n",
       "      <td>tndZkvBDwg@gmail.com</td>\n",
       "      <td>66873440472</td>\n",
       "      <td>0</td>\n",
       "      <td>zSekjOkRLyiGjvOPikTKwksFK</td>\n",
       "    </tr>\n",
       "    <tr>\n",
       "      <th>327057</th>\n",
       "      <td>327057</td>\n",
       "      <td>sjoEThSNaVBlYk@gmail.com</td>\n",
       "      <td></td>\n",
       "      <td>1</td>\n",
       "      <td>zSekjOkRLyiGjvOPikTKwksFK</td>\n",
       "    </tr>\n",
       "  </tbody>\n",
       "</table>\n",
       "</div>"
      ],
      "text/plain": [
       "            Id                     Email        Phone  Contacts  \\\n",
       "18          18   qOkuzhOuPsbltatw@qq.com                      4   \n",
       "274269  274269      tndZkvBDwg@gmail.com  66873440472         0   \n",
       "327057  327057  sjoEThSNaVBlYk@gmail.com                      1   \n",
       "\n",
       "                          OrderId  \n",
       "18      zSekjOkRLyiGjvOPikTKwksFK  \n",
       "274269  zSekjOkRLyiGjvOPikTKwksFK  \n",
       "327057  zSekjOkRLyiGjvOPikTKwksFK  "
      ]
     },
     "execution_count": 113,
     "metadata": {},
     "output_type": "execute_result"
    }
   ],
   "source": [
    "df.loc[df[\"OrderId\"] == \"zSekjOkRLyiGjvOPikTKwksFK\"]"
   ]
  },
  {
   "cell_type": "code",
   "execution_count": 109,
   "metadata": {},
   "outputs": [],
   "source": [
    "def get_row_relation(row, user_ids, memory):\n",
    "    current_user_id = row.get(\"Id\")\n",
    "    if current_user_id not in memory:\n",
    "        memory.append(current_user_id)\n",
    "        \n",
    "        order_id = row.get(\"OrderId\")\n",
    "        email = row.get(\"Email\")\n",
    "        phone = row.get(\"Phone\")\n",
    "        \n",
    "        if order_id == \"\" and email == \"\" and phone == \"\":\n",
    "            return user_ids\n",
    "\n",
    "        if order_id != \"\":\n",
    "            orderid_link_df = df.loc[(df[\"OrderId\"] == order_id) & (df[\"Id\"] != current_user_id)]\n",
    "            user_ids = user_ids.union(orderid_link_df[\"Id\"].unique())\n",
    "            for _, oi_row in orderid_link_df.iterrows():\n",
    "                user_ids = user_ids.union(get_row_relation(oi_row, user_ids, memory))\n",
    "\n",
    "        if email != \"\":\n",
    "            email_link_df = df.loc[(df[\"Email\"] == email) & (df[\"Id\"] != current_user_id)]\n",
    "            user_ids = user_ids.union(email_link_df[\"Id\"].unique())\n",
    "            for _, email_row in email_link_df.iterrows():\n",
    "                user_ids = user_ids.union(get_row_relation(email_row, user_ids, memory))\n",
    "\n",
    "        if phone != \"\":\n",
    "            phone_link_df = df.loc[(df[\"Phone\"] == phone) & (df[\"Id\"] != current_user_id)]\n",
    "            user_ids = user_ids.union(phone_link_df[\"Id\"].unique())\n",
    "            for _, phone_row in phone_link_df.iterrows():\n",
    "                user_ids = user_ids.union(get_row_relation(phone_row, user_ids, memory))\n",
    "    \n",
    "    return user_ids"
   ]
  },
  {
   "cell_type": "code",
   "execution_count": 110,
   "metadata": {},
   "outputs": [
    {
     "name": "stderr",
     "output_type": "stream",
     "text": [
      "  0%|                                                | 25/500000 [00:06<33:36:17,  4.13it/s]\n"
     ]
    }
   ],
   "source": [
    "output = []\n",
    "for _, row in tqdm(df.iterrows(), total=df.shape[0]):\n",
    "    current_user_id = row.get(\"Id\")\n",
    "    order_id = row.get(\"OrderId\")\n",
    "    email = row.get(\"Email\")\n",
    "    phone = row.get(\"Phone\")\n",
    "    \n",
    "    user_ids = {current_user_id}\n",
    "    \n",
    "    memory = []\n",
    "    \n",
    "    # Noise\n",
    "    if order_id == \"\" and email == \"\" and phone == \"\":\n",
    "        output.append({\"id\": current_user_id, \"trace\": str(user_ids)})\n",
    "        continue\n",
    "\n",
    "    user_ids = user_ids.union(get_row_relation(row, user_ids, memory))\n",
    "        \n",
    "    output.append({\"id\": current_user_id, \"trace\": str(sorted(user_ids))})\n",
    "    \n",
    "    if current_user_id > 24:\n",
    "        break"
   ]
  },
  {
   "cell_type": "code",
   "execution_count": 108,
   "metadata": {},
   "outputs": [
    {
     "data": {
      "text/plain": [
       "[{'id': 0, 'trace': '[0]'},\n",
       " {'id': 1, 'trace': '[1, 2458, 98519, 115061, 140081, 165605, 476346]'},\n",
       " {'id': 2, 'trace': '[2, 159312, 322639, 348955]'},\n",
       " {'id': 3, 'trace': '[3]'},\n",
       " {'id': 4, 'trace': '[4]'},\n",
       " {'id': 5,\n",
       "  'trace': '[5, 50, 212533, 215197, 226720, 383605, 404324, 458692, 482810]'},\n",
       " {'id': 6, 'trace': '[6, 38, 32871, 142067, 236367]'},\n",
       " {'id': 7, 'trace': '[7]'},\n",
       " {'id': 8, 'trace': '[8, 183160, 406623]'},\n",
       " {'id': 9, 'trace': '[9, 13, 16708, 33415, 343161, 417916, 468927, 484896]'},\n",
       " {'id': 10, 'trace': '[10, 93270]'},\n",
       " {'id': 11, 'trace': '[11, 244207]'},\n",
       " {'id': 12, 'trace': '[12, 160893, 480595]'},\n",
       " {'id': 13, 'trace': '[9, 13, 16708, 33415, 343161, 417916, 468927, 484896]'},\n",
       " {'id': 14, 'trace': '[14, 65749, 83313, 267520, 323910, 359095]'},\n",
       " {'id': 15, 'trace': '[15, 17, 21197, 486106]'},\n",
       " {'id': 16, 'trace': '[16]'},\n",
       " {'id': 17, 'trace': '[15, 17, 21197, 486106]'},\n",
       " {'id': 18,\n",
       "  'trace': '[18, 10380, 26580, 70474, 70621, 79466, 121268, 159329, 176080, 235210, 261681, 274269, 327057, 382449, 415657, 450623]'},\n",
       " {'id': 19, 'trace': '[19, 406780]'},\n",
       " {'id': 20, 'trace': '[20]'},\n",
       " {'id': 21, 'trace': '[21, 499255]'},\n",
       " {'id': 22,\n",
       "  'trace': '[22, 4562, 106701, 231013, 269015, 298102, 408655, 416176, 453177, 473446]'},\n",
       " {'id': 23, 'trace': '[23, 1944, 49506, 192016]'},\n",
       " {'id': 24,\n",
       "  'trace': '[24, 1485, 112670, 118722, 139764, 235060, 278469, 386186, 412121]'},\n",
       " {'id': 25, 'trace': '[25]'}]"
      ]
     },
     "execution_count": 108,
     "metadata": {},
     "output_type": "execute_result"
    }
   ],
   "source": [
    "output"
   ]
  },
  {
   "cell_type": "code",
   "execution_count": 111,
   "metadata": {},
   "outputs": [
    {
     "data": {
      "text/plain": [
       "[{'id': 0, 'trace': '[0]'},\n",
       " {'id': 1, 'trace': '[1, 2458, 98519, 115061, 140081, 165605, 476346]'},\n",
       " {'id': 2, 'trace': '[2, 159312, 322639, 348955]'},\n",
       " {'id': 3, 'trace': '[3]'},\n",
       " {'id': 4, 'trace': '[4]'},\n",
       " {'id': 5,\n",
       "  'trace': '[5, 50, 212533, 215197, 226720, 383605, 404324, 458692, 482810]'},\n",
       " {'id': 6, 'trace': '[6, 38, 32871, 142067, 236367]'},\n",
       " {'id': 7, 'trace': '[7]'},\n",
       " {'id': 8, 'trace': '[8, 183160, 406623]'},\n",
       " {'id': 9, 'trace': '[9, 13, 16708, 33415, 343161, 417916, 468927, 484896]'},\n",
       " {'id': 10, 'trace': '[10, 93270]'},\n",
       " {'id': 11, 'trace': '[11, 244207]'},\n",
       " {'id': 12, 'trace': '[12, 160893, 480595]'},\n",
       " {'id': 13, 'trace': '[9, 13, 16708, 33415, 343161, 417916, 468927, 484896]'},\n",
       " {'id': 14, 'trace': '[14, 65749, 83313, 267520, 323910, 359095]'},\n",
       " {'id': 15, 'trace': '[15, 17, 21197, 486106]'},\n",
       " {'id': 16, 'trace': '[16]'},\n",
       " {'id': 17, 'trace': '[15, 17, 21197, 486106]'},\n",
       " {'id': 18,\n",
       "  'trace': '[18, 10380, 26580, 70474, 70621, 79466, 121268, 159329, 176080, 235210, 261681, 274269, 327057, 382449, 415657, 450623]'},\n",
       " {'id': 19, 'trace': '[19, 406780]'},\n",
       " {'id': 20, 'trace': '[20]'},\n",
       " {'id': 21, 'trace': '[21, 499255]'},\n",
       " {'id': 22,\n",
       "  'trace': '[22, 4562, 106701, 231013, 269015, 298102, 408655, 416176, 453177, 473446]'},\n",
       " {'id': 23, 'trace': '[23, 1944, 49506, 192016]'},\n",
       " {'id': 24,\n",
       "  'trace': '[24, 1485, 112670, 118722, 139764, 235060, 278469, 386186, 412121]'},\n",
       " {'id': 25, 'trace': '[25]'}]"
      ]
     },
     "execution_count": 111,
     "metadata": {},
     "output_type": "execute_result"
    }
   ],
   "source": [
    "output"
   ]
  },
  {
   "cell_type": "code",
   "execution_count": null,
   "metadata": {},
   "outputs": [],
   "source": []
  }
 ],
 "metadata": {
  "kernelspec": {
   "display_name": "Python 3",
   "language": "python",
   "name": "python3"
  },
  "language_info": {
   "codemirror_mode": {
    "name": "ipython",
    "version": 3
   },
   "file_extension": ".py",
   "mimetype": "text/x-python",
   "name": "python",
   "nbconvert_exporter": "python",
   "pygments_lexer": "ipython3",
   "version": "3.8.5"
  }
 },
 "nbformat": 4,
 "nbformat_minor": 4
}
